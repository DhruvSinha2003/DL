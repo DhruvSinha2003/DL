{
 "cells": [
  {
   "cell_type": "code",
   "execution_count": 25,
   "id": "f19d6926",
   "metadata": {},
   "outputs": [],
   "source": [
    "import numpy as np\n",
    "import re"
   ]
  },
  {
   "cell_type": "code",
   "execution_count": 26,
   "id": "eba12b96",
   "metadata": {},
   "outputs": [],
   "source": [
    "sentences = \"\"\"We are about to study the idea of a computational process.\n",
    "Computational processes are abstract beings that inhabit computers.\n",
    "As they evolve, processes manipulate other abstract things called data.\n",
    "The evolution of a process is directed by a pattern of rules\n",
    "called a program. People create programs to direct processes. In effect,\n",
    "we conjure the spirits of the computer with our spells.\"\"\""
   ]
  },
  {
   "cell_type": "code",
   "execution_count": 27,
   "id": "f02250f9",
   "metadata": {},
   "outputs": [],
   "source": [
    "sentences = re.sub('[^A-Za-z0-9]+', ' ', sentences).lower()\n",
    "sentences = re.sub(r'(?:^| )\\w(?:$| )', ' ', sentences).strip()\n",
    "words = sentences.split()\n",
    "vocab = set(words)"
   ]
  },
  {
   "cell_type": "code",
   "execution_count": 28,
   "id": "c159f5dd",
   "metadata": {},
   "outputs": [],
   "source": [
    "vocab_size = len(vocab)\n",
    "embed_dim = 10\n",
    "context_size = 2"
   ]
  },
  {
   "cell_type": "code",
   "execution_count": 29,
   "id": "83cae69a",
   "metadata": {},
   "outputs": [],
   "source": [
    "word_to_ix = {word: i for i, word in enumerate(vocab)}\n",
    "ix_to_word = {i: word for i, word in enumerate(vocab)}"
   ]
  },
  {
   "cell_type": "code",
   "execution_count": 30,
   "id": "d510f464",
   "metadata": {},
   "outputs": [],
   "source": [
    "data = [(words[i - 2:i] + words[i + 1:i + 3], words[i]) for i in range(2, len(words) - 2)]"
   ]
  },
  {
   "cell_type": "code",
   "execution_count": 31,
   "id": "daf80710",
   "metadata": {},
   "outputs": [],
   "source": [
    "embeddings = np.random.random_sample((vocab_size, embed_dim))"
   ]
  },
  {
   "cell_type": "code",
   "execution_count": 32,
   "id": "5bef50cf",
   "metadata": {},
   "outputs": [],
   "source": [
    "def linear(m, theta):\n",
    "    return np.dot(m, theta)"
   ]
  },
  {
   "cell_type": "code",
   "execution_count": 33,
   "id": "bcfe7ad0",
   "metadata": {},
   "outputs": [],
   "source": [
    "def log_softmax(x):\n",
    "    e_x = np.exp(x - np.max(x))\n",
    "    return np.log(e_x / e_x.sum(axis=-1, keepdims=True))"
   ]
  },
  {
   "cell_type": "code",
   "execution_count": 34,
   "id": "9c36136c",
   "metadata": {},
   "outputs": [],
   "source": [
    "def NLLLoss(logs, targets):\n",
    "    return -np.mean(logs[np.arange(len(targets)), targets])"
   ]
  },
  {
   "cell_type": "code",
   "execution_count": 35,
   "id": "b4f3bb17",
   "metadata": {},
   "outputs": [],
   "source": [
    "def forward(context_idxs, theta):\n",
    "    m = embeddings[context_idxs].reshape(1, -1)\n",
    "    n = linear(m, theta)\n",
    "    o = log_softmax(n)\n",
    "    return m, n, o"
   ]
  },
  {
   "cell_type": "code",
   "execution_count": 41,
   "id": "c4b17c81",
   "metadata": {},
   "outputs": [],
   "source": [
    "def backward(preds, theta, target_idxs):\n",
    "    m, n, o = preds\n",
    "    target_one_hot = np.zeros(o.shape)\n",
    "    target_one_hot[np.arange(len(target_idxs)), target_idxs] = 1\n",
    "    \n",
    "    grad = np.dot(m.T, (o - target_one_hot))\n",
    "    return grad\n"
   ]
  },
  {
   "cell_type": "code",
   "execution_count": 42,
   "id": "c05fb5a9",
   "metadata": {},
   "outputs": [],
   "source": [
    "def optimize(theta, grad, lr=0.03):\n",
    "    return theta - lr * grad"
   ]
  },
  {
   "cell_type": "code",
   "execution_count": 43,
   "id": "1f8dff7e",
   "metadata": {},
   "outputs": [],
   "source": [
    "theta = np.random.uniform(-1, 1, (2 * context_size * embed_dim, vocab_size))\n",
    "epoch_losses = []"
   ]
  },
  {
   "cell_type": "code",
   "execution_count": 44,
   "id": "2db130ef",
   "metadata": {},
   "outputs": [],
   "source": [
    "for epoch in range(80):\n",
    "    losses = []\n",
    "    for context, target in data:\n",
    "        context_idxs = np.array([word_to_ix[w] for w in context])\n",
    "        preds = forward(context_idxs, theta)\n",
    "        target_idx = np.array([word_to_ix[target]])\n",
    "        loss = NLLLoss(preds[-1], target_idx)\n",
    "        losses.append(loss)\n",
    "        \n",
    "        grad = backward(preds, theta, target_idx)\n",
    "        theta = optimize(theta, grad)\n",
    "        \n",
    "    epoch_losses.append(np.mean(losses))"
   ]
  },
  {
   "cell_type": "code",
   "execution_count": 45,
   "id": "7501f5ca",
   "metadata": {},
   "outputs": [
    {
     "data": {
      "text/plain": [
       "Text(0.5, 1.0, 'Epoch Losses')"
      ]
     },
     "execution_count": 45,
     "metadata": {},
     "output_type": "execute_result"
    },
    {
     "data": {
      "image/png": "[encoded data removed]",
      "text/plain": [
       "<Figure size 432x288 with 1 Axes>"
      ]
     },
     "metadata": {
      "needs_background": "light"
     },
     "output_type": "display_data"
    }
   ],
   "source": [
    "import matplotlib.pyplot as plt\n",
    "plt.plot(np.arange(80), epoch_losses)\n",
    "plt.xlabel('Epochs')\n",
    "plt.ylabel('Loss')\n",
    "plt.title('Epoch Losses')"
   ]
  },
  {
   "cell_type": "code",
   "execution_count": 46,
   "id": "61dc4be8",
   "metadata": {},
   "outputs": [],
   "source": [
    "def predict(words):\n",
    "    context_idxs = np.array([word_to_ix[w] for w in words])\n",
    "    preds = forward(context_idxs, theta)\n",
    "    return ix_to_word[np.argmax(preds[-1])]"
   ]
  },
  {
   "cell_type": "code",
   "execution_count": 47,
   "id": "2a239d9b",
   "metadata": {},
   "outputs": [
    {
     "name": "stdout",
     "output_type": "stream",
     "text": [
      "about\n"
     ]
    }
   ],
   "source": [
    "print(predict(['we', 'are', 'to', 'study']))"
   ]
  },
  {
   "cell_type": "code",
   "execution_count": 48,
   "id": "63c8d5db",
   "metadata": {},
   "outputs": [
    {
     "name": "stdout",
     "output_type": "stream",
     "text": [
      "1.0\n"
     ]
    }
   ],
   "source": [
    "def accuracy():\n",
    "    wrong = 0\n",
    "    for context, target in data:\n",
    "        if predict(context) != target:\n",
    "            wrong += 1\n",
    "    return 1 - (wrong / len(data))\n",
    "\n",
    "print(accuracy())"
   ]
  },
  {
   "cell_type": "code",
   "execution_count": null,
   "id": "ffbb5166",
   "metadata": {},
   "outputs": [],
   "source": []
  }
 ],
 "metadata": {
  "kernelspec": {
   "display_name": "Python 3 (ipykernel)",
   "language": "python",
   "name": "python3"
  },
  "language_info": {
   "codemirror_mode": {
    "name": "ipython",
    "version": 3
   },
   "file_extension": ".py",
   "mimetype": "text/x-python",
   "name": "python",
   "nbconvert_exporter": "python",
   "pygments_lexer": "ipython3",
   "version": "3.10.12"
  }
 },
 "nbformat": 4,
 "nbformat_minor": 5
}
